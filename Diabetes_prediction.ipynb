{
  "nbformat": 4,
  "nbformat_minor": 0,
  "metadata": {
    "colab": {
      "provenance": [],
      "authorship_tag": "ABX9TyP4XzyS0NQrBb9V+8DkDN8y",
      "include_colab_link": true
    },
    "kernelspec": {
      "name": "python3",
      "display_name": "Python 3"
    },
    "language_info": {
      "name": "python"
    }
  },
  "cells": [
    {
      "cell_type": "markdown",
      "metadata": {
        "id": "view-in-github",
        "colab_type": "text"
      },
      "source": [
        "<a href=\"https://colab.research.google.com/github/dars180602/diabetes_prediction/blob/main/Diabetes_prediction.ipynb\" target=\"_parent\"><img src=\"https://colab.research.google.com/assets/colab-badge.svg\" alt=\"Open In Colab\"/></a>"
      ]
    },
    {
      "cell_type": "markdown",
      "source": [
        "3104 - Neural Networks and Deep Learning 01\n",
        "\n",
        "Diana Alejandra Reyes Serrano\n",
        "\n",
        "C0889591\n",
        "\n",
        "Assignment: Build a Logistic Regression Model for Diabetes Prediction\n",
        "\n",
        "Instructions:\n",
        "Objective: The objective of this assignment is to build a predictive model to predict the likelihood of a patient having diabetes based on certain features.\n",
        "\n",
        "Dataset: You will use the \"diabetes\" dataset provided. The dataset contains information about the medical history of patients, including features like Glucose level, Blood Pressure, BMI, etc., and a target variable indicating whether the patient has diabetes (1) or not (0).\n",
        "\n",
        "Link Github: https://github.com/dars180602/diabetes_prediction"
      ],
      "metadata": {
        "id": "DpBTJC5ujtSl"
      }
    },
    {
      "cell_type": "code",
      "execution_count": 1,
      "metadata": {
        "id": "x1y7gnzq6Jod"
      },
      "outputs": [],
      "source": [
        "# Import necessary libraries\n",
        "import pandas as pd\n",
        "import numpy as np\n",
        "from sklearn.model_selection import train_test_split\n",
        "from sklearn.preprocessing import StandardScaler\n",
        "from sklearn.linear_model import LogisticRegression\n",
        "from sklearn.metrics import accuracy_score, precision_score, recall_score, f1_score, roc_auc_score\n",
        "from sklearn.metrics import confusion_matrix, classification_report\n",
        "import matplotlib.pyplot as plt\n",
        "import seaborn as sns"
      ]
    },
    {
      "cell_type": "code",
      "source": [
        "# Load the dataset\n",
        "diabetes_df = pd.read_csv(\"diabetes.csv\")"
      ],
      "metadata": {
        "id": "eKVe85bm6mv8"
      },
      "execution_count": 2,
      "outputs": []
    },
    {
      "cell_type": "code",
      "source": [
        "# Explore the dataset\n",
        "print(diabetes_df.head())\n",
        "print(diabetes_df.info())\n",
        "print(diabetes_df.describe())"
      ],
      "metadata": {
        "colab": {
          "base_uri": "https://localhost:8080/"
        },
        "id": "Pnw6l40W6p0i",
        "outputId": "91467d2a-8451-4ecb-88c2-28f73e139dd5"
      },
      "execution_count": 3,
      "outputs": [
        {
          "output_type": "stream",
          "name": "stdout",
          "text": [
            "   Pregnancies  Glucose  BloodPressure  SkinThickness  Insulin   BMI  \\\n",
            "0            6      148             72             35        0  33.6   \n",
            "1            1       85             66             29        0  26.6   \n",
            "2            8      183             64              0        0  23.3   \n",
            "3            1       89             66             23       94  28.1   \n",
            "4            0      137             40             35      168  43.1   \n",
            "\n",
            "   DiabetesPedigreeFunction  Age  Outcome  \n",
            "0                     0.627   50        1  \n",
            "1                     0.351   31        0  \n",
            "2                     0.672   32        1  \n",
            "3                     0.167   21        0  \n",
            "4                     2.288   33        1  \n",
            "<class 'pandas.core.frame.DataFrame'>\n",
            "RangeIndex: 768 entries, 0 to 767\n",
            "Data columns (total 9 columns):\n",
            " #   Column                    Non-Null Count  Dtype  \n",
            "---  ------                    --------------  -----  \n",
            " 0   Pregnancies               768 non-null    int64  \n",
            " 1   Glucose                   768 non-null    int64  \n",
            " 2   BloodPressure             768 non-null    int64  \n",
            " 3   SkinThickness             768 non-null    int64  \n",
            " 4   Insulin                   768 non-null    int64  \n",
            " 5   BMI                       768 non-null    float64\n",
            " 6   DiabetesPedigreeFunction  768 non-null    float64\n",
            " 7   Age                       768 non-null    int64  \n",
            " 8   Outcome                   768 non-null    int64  \n",
            "dtypes: float64(2), int64(7)\n",
            "memory usage: 54.1 KB\n",
            "None\n",
            "       Pregnancies     Glucose  BloodPressure  SkinThickness     Insulin  \\\n",
            "count   768.000000  768.000000     768.000000     768.000000  768.000000   \n",
            "mean      3.845052  120.894531      69.105469      20.536458   79.799479   \n",
            "std       3.369578   31.972618      19.355807      15.952218  115.244002   \n",
            "min       0.000000    0.000000       0.000000       0.000000    0.000000   \n",
            "25%       1.000000   99.000000      62.000000       0.000000    0.000000   \n",
            "50%       3.000000  117.000000      72.000000      23.000000   30.500000   \n",
            "75%       6.000000  140.250000      80.000000      32.000000  127.250000   \n",
            "max      17.000000  199.000000     122.000000      99.000000  846.000000   \n",
            "\n",
            "              BMI  DiabetesPedigreeFunction         Age     Outcome  \n",
            "count  768.000000                768.000000  768.000000  768.000000  \n",
            "mean    31.992578                  0.471876   33.240885    0.348958  \n",
            "std      7.884160                  0.331329   11.760232    0.476951  \n",
            "min      0.000000                  0.078000   21.000000    0.000000  \n",
            "25%     27.300000                  0.243750   24.000000    0.000000  \n",
            "50%     32.000000                  0.372500   29.000000    0.000000  \n",
            "75%     36.600000                  0.626250   41.000000    1.000000  \n",
            "max     67.100000                  2.420000   81.000000    1.000000  \n"
          ]
        }
      ]
    },
    {
      "cell_type": "code",
      "source": [
        "# Check for missing values\n",
        "print(diabetes_df.isnull().sum())"
      ],
      "metadata": {
        "colab": {
          "base_uri": "https://localhost:8080/"
        },
        "id": "Hn301OEE6wjW",
        "outputId": "403ef95f-c0b7-4d28-84d5-ca0ad688d467"
      },
      "execution_count": 4,
      "outputs": [
        {
          "output_type": "stream",
          "name": "stdout",
          "text": [
            "Pregnancies                 0\n",
            "Glucose                     0\n",
            "BloodPressure               0\n",
            "SkinThickness               0\n",
            "Insulin                     0\n",
            "BMI                         0\n",
            "DiabetesPedigreeFunction    0\n",
            "Age                         0\n",
            "Outcome                     0\n",
            "dtype: int64\n"
          ]
        }
      ]
    },
    {
      "cell_type": "code",
      "source": [
        "# Split features and target variable\n",
        "X = diabetes_df.drop('Outcome', axis=1)\n",
        "y = diabetes_df['Outcome']"
      ],
      "metadata": {
        "id": "nm8Ik0na6z29"
      },
      "execution_count": 5,
      "outputs": []
    },
    {
      "cell_type": "code",
      "source": [
        "# Split the dataset into training and testing sets\n",
        "X_train, X_test, y_train, y_test = train_test_split(X, y, test_size=0.2, random_state=42)"
      ],
      "metadata": {
        "id": "gXuy2_X864Q2"
      },
      "execution_count": 6,
      "outputs": []
    },
    {
      "cell_type": "code",
      "source": [
        "# Scale numerical features\n",
        "scaler = StandardScaler()\n",
        "X_train_scaled = scaler.fit_transform(X_train)\n",
        "X_test_scaled = scaler.transform(X_test)"
      ],
      "metadata": {
        "id": "MgxWi_Yk7Daz"
      },
      "execution_count": 7,
      "outputs": []
    },
    {
      "cell_type": "code",
      "source": [
        "# Build a Logistic Regression model\n",
        "model = LogisticRegression()\n",
        "model.fit(X_train_scaled, y_train)"
      ],
      "metadata": {
        "colab": {
          "base_uri": "https://localhost:8080/",
          "height": 74
        },
        "id": "t2QTgnCG7EvZ",
        "outputId": "f6050b11-c1b1-4640-e757-8b82215f1ce6"
      },
      "execution_count": 8,
      "outputs": [
        {
          "output_type": "execute_result",
          "data": {
            "text/plain": [
              "LogisticRegression()"
            ],
            "text/html": [
              "<style>#sk-container-id-1 {color: black;background-color: white;}#sk-container-id-1 pre{padding: 0;}#sk-container-id-1 div.sk-toggleable {background-color: white;}#sk-container-id-1 label.sk-toggleable__label {cursor: pointer;display: block;width: 100%;margin-bottom: 0;padding: 0.3em;box-sizing: border-box;text-align: center;}#sk-container-id-1 label.sk-toggleable__label-arrow:before {content: \"▸\";float: left;margin-right: 0.25em;color: #696969;}#sk-container-id-1 label.sk-toggleable__label-arrow:hover:before {color: black;}#sk-container-id-1 div.sk-estimator:hover label.sk-toggleable__label-arrow:before {color: black;}#sk-container-id-1 div.sk-toggleable__content {max-height: 0;max-width: 0;overflow: hidden;text-align: left;background-color: #f0f8ff;}#sk-container-id-1 div.sk-toggleable__content pre {margin: 0.2em;color: black;border-radius: 0.25em;background-color: #f0f8ff;}#sk-container-id-1 input.sk-toggleable__control:checked~div.sk-toggleable__content {max-height: 200px;max-width: 100%;overflow: auto;}#sk-container-id-1 input.sk-toggleable__control:checked~label.sk-toggleable__label-arrow:before {content: \"▾\";}#sk-container-id-1 div.sk-estimator input.sk-toggleable__control:checked~label.sk-toggleable__label {background-color: #d4ebff;}#sk-container-id-1 div.sk-label input.sk-toggleable__control:checked~label.sk-toggleable__label {background-color: #d4ebff;}#sk-container-id-1 input.sk-hidden--visually {border: 0;clip: rect(1px 1px 1px 1px);clip: rect(1px, 1px, 1px, 1px);height: 1px;margin: -1px;overflow: hidden;padding: 0;position: absolute;width: 1px;}#sk-container-id-1 div.sk-estimator {font-family: monospace;background-color: #f0f8ff;border: 1px dotted black;border-radius: 0.25em;box-sizing: border-box;margin-bottom: 0.5em;}#sk-container-id-1 div.sk-estimator:hover {background-color: #d4ebff;}#sk-container-id-1 div.sk-parallel-item::after {content: \"\";width: 100%;border-bottom: 1px solid gray;flex-grow: 1;}#sk-container-id-1 div.sk-label:hover label.sk-toggleable__label {background-color: #d4ebff;}#sk-container-id-1 div.sk-serial::before {content: \"\";position: absolute;border-left: 1px solid gray;box-sizing: border-box;top: 0;bottom: 0;left: 50%;z-index: 0;}#sk-container-id-1 div.sk-serial {display: flex;flex-direction: column;align-items: center;background-color: white;padding-right: 0.2em;padding-left: 0.2em;position: relative;}#sk-container-id-1 div.sk-item {position: relative;z-index: 1;}#sk-container-id-1 div.sk-parallel {display: flex;align-items: stretch;justify-content: center;background-color: white;position: relative;}#sk-container-id-1 div.sk-item::before, #sk-container-id-1 div.sk-parallel-item::before {content: \"\";position: absolute;border-left: 1px solid gray;box-sizing: border-box;top: 0;bottom: 0;left: 50%;z-index: -1;}#sk-container-id-1 div.sk-parallel-item {display: flex;flex-direction: column;z-index: 1;position: relative;background-color: white;}#sk-container-id-1 div.sk-parallel-item:first-child::after {align-self: flex-end;width: 50%;}#sk-container-id-1 div.sk-parallel-item:last-child::after {align-self: flex-start;width: 50%;}#sk-container-id-1 div.sk-parallel-item:only-child::after {width: 0;}#sk-container-id-1 div.sk-dashed-wrapped {border: 1px dashed gray;margin: 0 0.4em 0.5em 0.4em;box-sizing: border-box;padding-bottom: 0.4em;background-color: white;}#sk-container-id-1 div.sk-label label {font-family: monospace;font-weight: bold;display: inline-block;line-height: 1.2em;}#sk-container-id-1 div.sk-label-container {text-align: center;}#sk-container-id-1 div.sk-container {/* jupyter's `normalize.less` sets `[hidden] { display: none; }` but bootstrap.min.css set `[hidden] { display: none !important; }` so we also need the `!important` here to be able to override the default hidden behavior on the sphinx rendered scikit-learn.org. See: https://github.com/scikit-learn/scikit-learn/issues/21755 */display: inline-block !important;position: relative;}#sk-container-id-1 div.sk-text-repr-fallback {display: none;}</style><div id=\"sk-container-id-1\" class=\"sk-top-container\"><div class=\"sk-text-repr-fallback\"><pre>LogisticRegression()</pre><b>In a Jupyter environment, please rerun this cell to show the HTML representation or trust the notebook. <br />On GitHub, the HTML representation is unable to render, please try loading this page with nbviewer.org.</b></div><div class=\"sk-container\" hidden><div class=\"sk-item\"><div class=\"sk-estimator sk-toggleable\"><input class=\"sk-toggleable__control sk-hidden--visually\" id=\"sk-estimator-id-1\" type=\"checkbox\" checked><label for=\"sk-estimator-id-1\" class=\"sk-toggleable__label sk-toggleable__label-arrow\">LogisticRegression</label><div class=\"sk-toggleable__content\"><pre>LogisticRegression()</pre></div></div></div></div></div>"
            ]
          },
          "metadata": {},
          "execution_count": 8
        }
      ]
    },
    {
      "cell_type": "code",
      "source": [
        "# Make predictions\n",
        "y_pred = model.predict(X_test_scaled)"
      ],
      "metadata": {
        "id": "EUT6sBtG7HmJ"
      },
      "execution_count": 9,
      "outputs": []
    },
    {
      "cell_type": "code",
      "source": [
        "# Evaluate the model\n",
        "accuracy = accuracy_score(y_test, y_pred)\n",
        "precision = precision_score(y_test, y_pred)\n",
        "recall = recall_score(y_test, y_pred)\n",
        "f1 = f1_score(y_test, y_pred)\n",
        "roc_auc = roc_auc_score(y_test, y_pred)\n",
        "\n",
        "print(\"Accuracy:\", accuracy)\n",
        "print(\"Precision:\", precision)\n",
        "print(\"Recall:\", recall)\n",
        "print(\"F1 Score:\", f1)\n",
        "print(\"ROC AUC Score:\", roc_auc)"
      ],
      "metadata": {
        "colab": {
          "base_uri": "https://localhost:8080/"
        },
        "id": "sb086c2k7KM6",
        "outputId": "a1ca63ff-eeab-4f4b-db3d-86b489d7726c"
      },
      "execution_count": 10,
      "outputs": [
        {
          "output_type": "stream",
          "name": "stdout",
          "text": [
            "Accuracy: 0.7532467532467533\n",
            "Precision: 0.6491228070175439\n",
            "Recall: 0.6727272727272727\n",
            "F1 Score: 0.6607142857142858\n",
            "ROC AUC Score: 0.7353535353535354\n"
          ]
        }
      ]
    },
    {
      "cell_type": "markdown",
      "source": [
        "The logistic regression model developed to predict diabetes based on patients' medical characteristics shows moderate performance in the evaluation performed. With an accuracy of 75.32%, the model succeeds in correctly predicting the class of diabetes in about three-quarters of the cases, while the accuracy of 64.91% indicates that about 64.91% of the cases classified as positive actually have diabetes. In addition, the model exhibits a recall of 67.27%, indicating that it is able to correctly identify about 67.27% of all real diabetes cases in the test set. The F1 score of 66.07% and the area under the ROC curve (ROC AUC) of 73.54% provide an overall measure of the model's performance, highlighting the need to further explore additional strategies to improve its predictive ability, particularly in relation to class imbalance and possible outliers in the data."
      ],
      "metadata": {
        "id": "ZPUbYGccP9Jf"
      }
    },
    {
      "cell_type": "code",
      "source": [
        "# Confusion matrix and classification report\n",
        "conf_matrix = confusion_matrix(y_test, y_pred)\n",
        "class_report = classification_report(y_test, y_pred)\n",
        "\n",
        "print(\"Confusion Matrix:\")\n",
        "print(conf_matrix)\n",
        "print(\"Classification Report:\")\n",
        "print(class_report)"
      ],
      "metadata": {
        "colab": {
          "base_uri": "https://localhost:8080/"
        },
        "id": "lN-r97Bj7Rhc",
        "outputId": "76a01072-32c4-4952-e0fc-a086789df14e"
      },
      "execution_count": 11,
      "outputs": [
        {
          "output_type": "stream",
          "name": "stdout",
          "text": [
            "Confusion Matrix:\n",
            "[[79 20]\n",
            " [18 37]]\n",
            "Classification Report:\n",
            "              precision    recall  f1-score   support\n",
            "\n",
            "           0       0.81      0.80      0.81        99\n",
            "           1       0.65      0.67      0.66        55\n",
            "\n",
            "    accuracy                           0.75       154\n",
            "   macro avg       0.73      0.74      0.73       154\n",
            "weighted avg       0.76      0.75      0.75       154\n",
            "\n"
          ]
        }
      ]
    },
    {
      "cell_type": "markdown",
      "source": [
        "The logistic regression model shows moderate performance in predicting diabetes, as evidenced by the confusion matrix and classification report obtained. The confusion matrix reveals that the model manages to correctly predict 79 negative cases (without diabetes) and 37 positive cases (with diabetes), but also incorrectly identifies 20 negative cases and 18 positive cases. This is reflected in the classification report, which shows an accuracy of 81% for the negative class and 65% for the positive class, as well as a recall of 80% for the negative class and 67% for the positive class. Despite a relatively balanced accuracy and recall, the model exhibits an F1 score of 66% and an area under the ROC curve (ROC AUC) of 73%, indicating room for improvement in its predictive ability, particularly in relation to class imbalance and possible improvements in the handling of false positives and false negatives."
      ],
      "metadata": {
        "id": "7jwp4Il1Qe2t"
      }
    },
    {
      "cell_type": "code",
      "source": [
        "# Feature coefficients\n",
        "feature_coef = pd.DataFrame({'Feature': X.columns, 'Coefficient': model.coef_[0]})\n",
        "print(\"Feature Coefficients:\")\n",
        "print(feature_coef)"
      ],
      "metadata": {
        "colab": {
          "base_uri": "https://localhost:8080/"
        },
        "id": "bgtpiUn-7VKg",
        "outputId": "d8a2ef80-4f27-44d6-d43a-2e2de9845064"
      },
      "execution_count": 12,
      "outputs": [
        {
          "output_type": "stream",
          "name": "stdout",
          "text": [
            "Feature Coefficients:\n",
            "                    Feature  Coefficient\n",
            "0               Pregnancies     0.212558\n",
            "1                   Glucose     1.071132\n",
            "2             BloodPressure    -0.247842\n",
            "3             SkinThickness     0.045697\n",
            "4                   Insulin    -0.200827\n",
            "5                       BMI     0.778152\n",
            "6  DiabetesPedigreeFunction     0.230607\n",
            "7                       Age     0.421002\n"
          ]
        }
      ]
    },
    {
      "cell_type": "code",
      "source": [
        "# Visualization of coefficients\n",
        "plt.figure(figsize=(10, 6))\n",
        "sns.barplot(x='Coefficient', y='Feature', data=feature_coef)\n",
        "plt.title('Feature Coefficients')\n",
        "plt.xlabel('Coefficient')\n",
        "plt.ylabel('Feature')\n",
        "plt.show()"
      ],
      "metadata": {
        "colab": {
          "base_uri": "https://localhost:8080/",
          "height": 564
        },
        "id": "QWWNEq6e7a_Z",
        "outputId": "234f15ec-3fd8-4ca4-d38e-7d2868ebfc61"
      },
      "execution_count": 13,
      "outputs": [
        {
          "output_type": "display_data",
          "data": {
            "text/plain": [
              "<Figure size 1000x600 with 1 Axes>"
            ],
            "image/png": "[encoded data removed]"
          },
          "metadata": {}
        }
      ]
    },
    {
      "cell_type": "markdown",
      "source": [
        "The coefficients of the characteristics in the logistic regression model provide information on the relative impact of each characteristic on the prediction of diabetes. Among the characteristics examined, glucose (Glucose) shows the highest coefficient with a value of approximately 1.071, indicating that an increase in glucose level is positively associated with an increased risk of diabetes. Other significant factors include body mass index (BMI) with a coefficient of about 0.778 and age with a coefficient of about 0.421, suggesting that both BMI and age are also positively related to the likelihood of having diabetes. On the other hand, blood pressure (BloodPressure) and insulin (Insulin) have negative coefficients, indicating that an increase in these values is negatively associated with the probability of diabetes. The other characteristics, such as number of pregnancies (Pregnancies), skin thickness (SkinThickness) and diabetes pedigree function (DiabetesPedigreeFunction), have less pronounced coefficients, but still contribute to the model significantly. These findings provide valuable information for understanding which characteristics are most relevant for predicting diabetes in this specific dataset."
      ],
      "metadata": {
        "id": "SuOiyNVSRjoU"
      }
    },
    {
      "cell_type": "code",
      "source": [
        "# Balanced Data\n",
        "\n",
        "from imblearn.over_sampling import SMOTE\n",
        "import pandas as pd\n",
        "\n",
        "X = diabetes_df.drop('Outcome', axis=1)\n",
        "y = diabetes_df['Outcome']\n",
        "\n",
        "smote = SMOTE(random_state=42)\n",
        "\n",
        "X_resampled, y_resampled = smote.fit_resample(X, y)\n",
        "\n",
        "X_resampled_df = pd.DataFrame(X_resampled, columns=X.columns)\n",
        "y_resampled_df = pd.DataFrame(y_resampled, columns=['Outcome'])\n",
        "\n",
        "balanced_diabetes_df = pd.concat([X_resampled_df, y_resampled_df], axis=1)\n",
        "\n",
        "print(balanced_diabetes_df['Outcome'].value_counts())\n"
      ],
      "metadata": {
        "colab": {
          "base_uri": "https://localhost:8080/"
        },
        "id": "zgcemfyMTYOh",
        "outputId": "7854ab90-4d9e-4b3c-cb60-faaf58909974"
      },
      "execution_count": 17,
      "outputs": [
        {
          "output_type": "stream",
          "name": "stdout",
          "text": [
            "1    500\n",
            "0    500\n",
            "Name: Outcome, dtype: int64\n"
          ]
        }
      ]
    },
    {
      "cell_type": "code",
      "source": [
        "# Retrain the model\n",
        "\n",
        "from sklearn.model_selection import train_test_split\n",
        "from sklearn.linear_model import LogisticRegression\n",
        "from sklearn.metrics import accuracy_score, precision_score, recall_score, f1_score, roc_auc_score\n",
        "\n",
        "X_train, X_test, y_train, y_test = train_test_split(X_resampled, y_resampled, test_size=0.2, random_state=42)\n",
        "\n",
        "model = LogisticRegression()\n",
        "\n",
        "model.fit(X_train, y_train)\n",
        "\n",
        "y_pred = model.predict(X_test)\n",
        "\n",
        "accuracy = accuracy_score(y_test, y_pred)\n",
        "precision = precision_score(y_test, y_pred)\n",
        "recall = recall_score(y_test, y_pred)\n",
        "f1 = f1_score(y_test, y_pred)\n",
        "roc_auc = roc_auc_score(y_test, y_pred)\n",
        "\n",
        "print(\"Accuracy on balanced test set:\", accuracy)\n",
        "print(\"Precision on balanced test set:\", precision)\n",
        "print(\"Recall on balanced test set:\", recall)\n",
        "print(\"F1 Score on balanced test set:\", f1)\n",
        "print(\"ROC AUC Score on balanced test set:\", roc_auc)\n"
      ],
      "metadata": {
        "colab": {
          "base_uri": "https://localhost:8080/"
        },
        "id": "V2QnO9IoTZ01",
        "outputId": "1cf06497-4be2-48ad-c56e-5e8b82b60957"
      },
      "execution_count": 18,
      "outputs": [
        {
          "output_type": "stream",
          "name": "stdout",
          "text": [
            "Accuracy on balanced test set: 0.735\n",
            "Precision on balanced test set: 0.7105263157894737\n",
            "Recall on balanced test set: 0.801980198019802\n",
            "F1 Score on balanced test set: 0.7534883720930233\n",
            "ROC AUC Score on balanced test set: 0.7343234323432344\n"
          ]
        },
        {
          "output_type": "stream",
          "name": "stderr",
          "text": [
            "/usr/local/lib/python3.10/dist-packages/sklearn/linear_model/_logistic.py:458: ConvergenceWarning: lbfgs failed to converge (status=1):\n",
            "STOP: TOTAL NO. of ITERATIONS REACHED LIMIT.\n",
            "\n",
            "Increase the number of iterations (max_iter) or scale the data as shown in:\n",
            "    https://scikit-learn.org/stable/modules/preprocessing.html\n",
            "Please also refer to the documentation for alternative solver options:\n",
            "    https://scikit-learn.org/stable/modules/linear_model.html#logistic-regression\n",
            "  n_iter_i = _check_optimize_result(\n"
          ]
        }
      ]
    },
    {
      "cell_type": "code",
      "source": [
        "# Original results before class balancing\n",
        "original_accuracy = 0.7532467532467533\n",
        "original_precision = 0.6491228070175439\n",
        "original_recall = 0.6727272727272727\n",
        "original_f1 = 0.6607142857142858\n",
        "original_roc_auc = 0.7353535353535354\n",
        "\n",
        "# Results with balanced data\n",
        "balanced_accuracy = 0.735\n",
        "balanced_precision = 0.7105263157894737\n",
        "balanced_recall = 0.801980198019802\n",
        "balanced_f1 = 0.7534883720930233\n",
        "balanced_roc_auc = 0.7343234323432344\n",
        "\n",
        "# Print the results for comparison\n",
        "print(\"Original Results:\")\n",
        "print(\"Accuracy:\", original_accuracy)\n",
        "print(\"Precision:\", original_precision)\n",
        "print(\"Recall:\", original_recall)\n",
        "print(\"F1 Score:\", original_f1)\n",
        "print(\"ROC AUC Score:\", original_roc_auc)\n",
        "\n",
        "print(\"\\nBalanced Results:\")\n",
        "print(\"Accuracy:\", balanced_accuracy)\n",
        "print(\"Precision:\", balanced_precision)\n",
        "print(\"Recall:\", balanced_recall)\n",
        "print(\"F1 Score:\", balanced_f1)\n",
        "print(\"ROC AUC Score:\", balanced_roc_auc)\n"
      ],
      "metadata": {
        "colab": {
          "base_uri": "https://localhost:8080/"
        },
        "id": "REzzCAYnUHTf",
        "outputId": "54e6acf1-d18b-4045-b3e1-de12d2ec0dd4"
      },
      "execution_count": 19,
      "outputs": [
        {
          "output_type": "stream",
          "name": "stdout",
          "text": [
            "Original Results:\n",
            "Accuracy: 0.7532467532467533\n",
            "Precision: 0.6491228070175439\n",
            "Recall: 0.6727272727272727\n",
            "F1 Score: 0.6607142857142858\n",
            "ROC AUC Score: 0.7353535353535354\n",
            "\n",
            "Balanced Results:\n",
            "Accuracy: 0.735\n",
            "Precision: 0.7105263157894737\n",
            "Recall: 0.801980198019802\n",
            "F1 Score: 0.7534883720930233\n",
            "ROC AUC Score: 0.7343234323432344\n"
          ]
        }
      ]
    },
    {
      "cell_type": "markdown",
      "source": [
        "After applying class balancing to the data using SMOTE, we observed a change in the evaluation metrics of the logistic regression model for predicting diabetes. Initially, the model trained with unbalanced data showed moderate performance, with an accuracy of 64.91%, recall of 67.27%, F1 Score of 66.07% and an area under the ROC curve (ROC AUC) of 73.54%. After applying class balancing, the model metrics improved overall. Precision increased to 71.05%, recall to 80.20%, F1 Score to 75.35% and area under the ROC curve to 73.43%. However, model accuracy decreased slightly to 73.50% from the initial 75.32%. These results suggest that class balancing improved the model's ability to identify positive cases of diabetes, while maintaining a reasonable balance between accuracy and recall. In conclusion, class balancing using SMOTE helped improve the predictive ability of the logistic regression model to predict diabetes in this data set."
      ],
      "metadata": {
        "id": "c6tPawIMUd_A"
      }
    },
    {
      "cell_type": "code",
      "source": [
        "# Pickling the model\n",
        "\n",
        "import pickle\n",
        "\n",
        "# Save the trained model to a pickle file\n",
        "with open('diabetes_model.pkl', 'wb') as file:\n",
        "    pickle.dump(model, file)"
      ],
      "metadata": {
        "id": "65CzSDs_WA5A"
      },
      "execution_count": 21,
      "outputs": []
    }
  ]
}